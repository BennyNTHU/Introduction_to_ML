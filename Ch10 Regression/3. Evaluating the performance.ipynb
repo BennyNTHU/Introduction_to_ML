{
 "cells": [
  {
   "cell_type": "markdown",
   "metadata": {},
   "source": [
    "要怎麼評斷線性回歸器的性能呢?我們可以拆成獨立不相關的訓練集跟測試集。我們這一次要把所有特徵放下去"
   ]
  },
  {
   "cell_type": "code",
   "execution_count": 3,
   "metadata": {},
   "outputs": [],
   "source": [
    "import pandas as pd\n",
    "import numpy as np\n",
    "import scipy as sp\n",
    "import seaborn as sns\n",
    "import matplotlib.pyplot as plt\n",
    "from sklearn.preprocessing import StandardScaler\n",
    "from sklearn.model_selection import train_test_split\n",
    "from sklearn.linear_model import LinearRegression\n",
    "\n",
    "df = pd.read_csv('housing.data', header=None,sep='\\s+')\n",
    "df.columns = ['CRIM', 'ZN', 'INDUS', 'CHAS', \n",
    "              'NOX', 'RM', 'AGE', 'DIS', 'RAD', \n",
    "              'TAX', 'PTRATIO', 'B', 'LSTAT', 'MEDV']\n",
    "\n",
    "X = df.iloc[:, :-1].values # 特徵全部下去\n",
    "y = df['MEDV'].values # 來預測房價\n",
    "X_train, X_test, y_train, y_test = train_test_split(X, y, test_size=0.3, random_state=0) # 按照7:3來分類"
   ]
  },
  {
   "cell_type": "code",
   "execution_count": 4,
   "metadata": {},
   "outputs": [],
   "source": [
    "slr = LinearRegression()\n",
    "\n",
    "slr.fit(X_train, y_train)\n",
    "y_train_pred = slr.predict(X_train)\n",
    "y_test_pred = slr.predict(X_test)"
   ]
  },
  {
   "cell_type": "markdown",
   "metadata": {},
   "source": [
    "接著我們繪製\"殘差圖\"。垂直軸是預測值扣掉實際值，水平軸是預測值。這樣一來，若圖形離水平軸越遠，代表他是離群值。"
   ]
  },
  {
   "cell_type": "code",
   "execution_count": 5,
   "metadata": {},
   "outputs": [
    {
     "data": {
      "image/png": "[encoded data removed]",
      "text/plain": [
       "<Figure size 432x288 with 1 Axes>"
      ]
     },
     "metadata": {
      "needs_background": "light"
     },
     "output_type": "display_data"
    }
   ],
   "source": [
    "plt.scatter(y_train_pred,  y_train_pred - y_train,\n",
    "            c='steelblue', marker='o', edgecolor='white',\n",
    "            label='Training data')\n",
    "plt.scatter(y_test_pred,  y_test_pred - y_test,\n",
    "            c='limegreen', marker='s', edgecolor='white',\n",
    "            label='Test data')\n",
    "plt.xlabel('Predicted values')\n",
    "plt.ylabel('Residuals')\n",
    "plt.legend(loc='upper left')\n",
    "plt.hlines(y=0, xmin=-10, xmax=50, color='black', lw=2)\n",
    "plt.xlim([-10, 50])\n",
    "plt.tight_layout()\n",
    "\n",
    "# plt.savefig('images/10_09.png', dpi=300)\n",
    "plt.show()"
   ]
  },
  {
   "cell_type": "markdown",
   "metadata": {},
   "source": [
    "有一些指標也可以用來量化模型效能，比方說MSE:$$MSE=\\frac{1}{N}\\sum_{i=1}^N(y^{(i)}-\\hat{y}^{(i)})^2$$\n",
    "或著是$R^2$值，其定義是$$R^2=1-\\frac{SSE}{SST}$$\n",
    "其中SSE稱為\"平方誤差和\"$$J(\\mathbf{w})=\\frac{1}{2}\\sum_{i=1}^N(y^{(i)}-\\hat{y}^{(i)})^2$$\n",
    "SST稱為總平方和$$SST=\\sum_{i=1}^n(y^{(i)}-\\mu_y)^2=Var(y)$$"
   ]
  },
  {
   "cell_type": "code",
   "execution_count": 6,
   "metadata": {},
   "outputs": [
    {
     "name": "stdout",
     "output_type": "stream",
     "text": [
      "MSE train: 19.958, test: 27.196\n",
      "R^2 train: 0.765, test: 0.673\n"
     ]
    }
   ],
   "source": [
    "from sklearn.metrics import r2_score\n",
    "from sklearn.metrics import mean_squared_error\n",
    "\n",
    "print('MSE train: %.3f, test: %.3f' % (\n",
    "        mean_squared_error(y_train, y_train_pred),\n",
    "        mean_squared_error(y_test, y_test_pred)))\n",
    "print('R^2 train: %.3f, test: %.3f' % (\n",
    "        r2_score(y_train, y_train_pred),\n",
    "        r2_score(y_test, y_test_pred)))"
   ]
  },
  {
   "cell_type": "markdown",
   "metadata": {},
   "source": [
    "線性回歸偶爾也會遇上過度適合的問題，我們也可以藉由正規化方法引進一個懲罰項。主要分為以下三種:\n",
    "\n",
    "1. 里肌回歸(Ridge regression)\n",
    "$$J(\\mathbf{w})=\\frac{1}{2}\\sum_{i=1}^N(y^{(i)}-\\hat{y}^{(i)})^2+\\lambda|\\mathbf{w}|_2^2$$\n",
    "2. LASSO(最小絕對壓縮挑選機制)\n",
    "$$J(\\mathbf{w})=\\frac{1}{2}\\sum_{i=1}^N(y^{(i)}-\\hat{y}^{(i)})^2+\\lambda|\\mathbf{w}|_1$$\n",
    "此時$m\\leq n$，否則只會選$n$個。\n",
    "3. 彈性網\n",
    "$$J(\\mathbf{w})=\\frac{1}{2}\\sum_{i=1}^N(y^{(i)}-\\hat{y}^{(i)})^2+\\lambda_1\\sum_{j=1}^mw_j^2+\\lambda_2\\sum_{j=1}^m|\\mathbf{w}_j|_1$$\n",
    "\n",
    "只示範最常用的LASSO要怎麼用"
   ]
  },
  {
   "cell_type": "code",
   "execution_count": 7,
   "metadata": {},
   "outputs": [
    {
     "name": "stdout",
     "output_type": "stream",
     "text": [
      "[-0.11311792  0.04725111 -0.03992527  0.96478874 -0.          3.72289616\n",
      " -0.02143106 -1.23370405  0.20469    -0.0129439  -0.85269025  0.00795847\n",
      " -0.52392362]\n"
     ]
    }
   ],
   "source": [
    "from sklearn.linear_model import Lasso\n",
    "\n",
    "lasso = Lasso(alpha=0.1) # 就是lambda\n",
    "lasso.fit(X_train, y_train)\n",
    "y_train_pred = lasso.predict(X_train)\n",
    "y_test_pred = lasso.predict(X_test)\n",
    "print(lasso.coef_) # 依序列出各個特徵的w值"
   ]
  },
  {
   "cell_type": "code",
   "execution_count": 8,
   "metadata": {},
   "outputs": [
    {
     "name": "stdout",
     "output_type": "stream",
     "text": [
      "MSE train: 20.926, test: 28.876\n",
      "R^2 train: 0.753, test: 0.653\n"
     ]
    }
   ],
   "source": [
    "print('MSE train: %.3f, test: %.3f' % (\n",
    "        mean_squared_error(y_train, y_train_pred),\n",
    "        mean_squared_error(y_test, y_test_pred)))\n",
    "print('R^2 train: %.3f, test: %.3f' % (\n",
    "        r2_score(y_train, y_train_pred),\n",
    "        r2_score(y_test, y_test_pred)))"
   ]
  },
  {
   "cell_type": "markdown",
   "metadata": {},
   "source": [
    "其他演算法則如下列程式碼呼叫"
   ]
  },
  {
   "cell_type": "code",
   "execution_count": 9,
   "metadata": {},
   "outputs": [],
   "source": [
    "from sklearn.linear_model import Ridge\n",
    "ridge = Ridge(alpha=1.0)\n",
    "\n",
    "from sklearn.linear_model import Lasso\n",
    "lasso = Lasso(alpha=1.0)\n",
    "\n",
    "from sklearn.linear_model import ElasticNet\n",
    "elanet = ElasticNet(alpha=1.0, l1_ratio=0.5)"
   ]
  }
 ],
 "metadata": {
  "kernelspec": {
   "display_name": "Python 3",
   "language": "python",
   "name": "python3"
  },
  "language_info": {
   "codemirror_mode": {
    "name": "ipython",
    "version": 3
   },
   "file_extension": ".py",
   "mimetype": "text/x-python",
   "name": "python",
   "nbconvert_exporter": "python",
   "pygments_lexer": "ipython3",
   "version": "3.7.3"
  }
 },
 "nbformat": 4,
 "nbformat_minor": 2
}
